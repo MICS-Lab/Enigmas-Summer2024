{
 "cells": [
  {
   "cell_type": "code",
   "execution_count": 3,
   "metadata": {},
   "outputs": [
    {
     "name": "stdout",
     "output_type": "stream",
     "text": [
      "(4, 9, 1, 3, 8, 2, 5, 6, 7)\n",
      "(5, 9, 2, 3, 4, 7, 1, 6, 8)\n",
      "(7, 6, 5, 2, 3, 8, 1, 4, 9)\n",
      "(7, 6, 5, 2, 8, 3, 1, 9, 4)\n",
      "(8, 3, 7, 1, 6, 4, 5, 2, 9)\n",
      "(8, 6, 1, 7, 4, 3, 2, 9, 5)\n",
      "(9, 2, 5, 4, 6, 1, 7, 3, 8)\n",
      "(9, 4, 1, 8, 3, 2, 5, 6, 7)\n"
     ]
    }
   ],
   "source": [
    "# iterate on all permutations of range(1,9)\n",
    "import itertools\n",
    "\n",
    "for p in itertools.permutations(range(1, 10)):\n",
    "    if p[0] + p[1] == p[1] + p[2] + p[3] == p[3] + p[4] + p[5] == p[5] + p[6] + p[7] == p[7] + p[8]:\n",
    "        print(p)"
   ]
  }
 ],
 "metadata": {
  "kernelspec": {
   "display_name": "Python 3",
   "language": "python",
   "name": "python3"
  },
  "language_info": {
   "codemirror_mode": {
    "name": "ipython",
    "version": 3
   },
   "file_extension": ".py",
   "mimetype": "text/x-python",
   "name": "python",
   "nbconvert_exporter": "python",
   "pygments_lexer": "ipython3",
   "version": "3.11.4"
  }
 },
 "nbformat": 4,
 "nbformat_minor": 2
}
