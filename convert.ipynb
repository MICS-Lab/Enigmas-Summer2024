{
 "cells": [
  {
   "cell_type": "code",
   "execution_count": 5,
   "metadata": {},
   "outputs": [],
   "source": [
    "from pypdf import PdfMerger\n",
    "from pdf2image import convert_from_path\n",
    "import qrcode\n",
    "import glob"
   ]
  },
  {
   "cell_type": "markdown",
   "metadata": {},
   "source": [
    "---"
   ]
  },
  {
   "cell_type": "code",
   "execution_count": 2,
   "metadata": {},
   "outputs": [],
   "source": [
    "pdfs = glob.glob('enigmas/*enigma*.pdf')\n",
    "\n",
    "merger = PdfMerger()\n",
    "for pdf in pdfs:\n",
    "    merger.append(pdf)\n",
    "merger.write(\"all_enigmas.pdf\")\n",
    "merger.close()"
   ]
  },
  {
   "cell_type": "markdown",
   "metadata": {},
   "source": [
    "---"
   ]
  },
  {
   "cell_type": "code",
   "execution_count": 3,
   "metadata": {},
   "outputs": [
    {
     "name": "stdout",
     "output_type": "stream",
     "text": [
      "enigmas\\00enigma_template.pdf\n",
      "enigmas\\01enigma.pdf\n",
      "enigmas\\02enigma.pdf\n",
      "enigmas\\03enigma.pdf\n",
      "enigmas\\04enigma.pdf\n",
      "enigmas\\05enigma.pdf\n",
      "enigmas\\06enigma.pdf\n",
      "enigmas\\07enigma.pdf\n",
      "enigmas\\08enigma.pdf\n",
      "enigmas\\09enigma.pdf\n",
      "enigmas\\10enigma.pdf\n"
     ]
    }
   ],
   "source": [
    "for pdf in pdfs:\n",
    "    print(pdf)\n",
    "    images = convert_from_path(pdf)\n",
    "    images[0].save(pdf.replace('.pdf', '.png'), 'PNG')"
   ]
  },
  {
   "cell_type": "markdown",
   "metadata": {},
   "source": [
    "---"
   ]
  },
  {
   "cell_type": "code",
   "execution_count": 7,
   "metadata": {},
   "outputs": [],
   "source": [
    "img = qrcode.make('https://mics-lab.github.io/Enigmas-Summer2024')\n",
    "img.save(\"QRanswer.png\")\n",
    "img = qrcode.make('https://mics-lab.github.io/Enigmas-Summer2024/enigmas')\n",
    "img.save(\"QRstatement.png\")"
   ]
  },
  {
   "cell_type": "code",
   "execution_count": null,
   "metadata": {},
   "outputs": [],
   "source": []
  }
 ],
 "metadata": {
  "kernelspec": {
   "display_name": "Python 3",
   "language": "python",
   "name": "python3"
  },
  "language_info": {
   "codemirror_mode": {
    "name": "ipython",
    "version": 3
   },
   "file_extension": ".py",
   "mimetype": "text/x-python",
   "name": "python",
   "nbconvert_exporter": "python",
   "pygments_lexer": "ipython3",
   "version": "3.11.4"
  }
 },
 "nbformat": 4,
 "nbformat_minor": 2
}
